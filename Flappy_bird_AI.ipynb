{
  "nbformat": 4,
  "nbformat_minor": 0,
  "metadata": {
    "colab": {
      "provenance": [],
      "gpuType": "T4",
      "authorship_tag": "ABX9TyOh3Epp9ruOlpBDFHH4KEOP",
      "include_colab_link": true
    },
    "kernelspec": {
      "name": "python3",
      "display_name": "Python 3"
    },
    "language_info": {
      "name": "python"
    }
  },
  "cells": [
    {
      "cell_type": "markdown",
      "metadata": {
        "id": "view-in-github",
        "colab_type": "text"
      },
      "source": [
        "<a href=\"https://colab.research.google.com/github/idv713/jupyter-exploration/blob/main/Flappy_bird_AI.ipynb\" target=\"_parent\"><img src=\"https://colab.research.google.com/assets/colab-badge.svg\" alt=\"Open In Colab\"/></a>"
      ]
    },
    {
      "cell_type": "code",
      "source": [
        "!pip install pygame"
      ],
      "metadata": {
        "colab": {
          "base_uri": "https://localhost:8080/"
        },
        "id": "KYYdcLGMYBdY",
        "outputId": "ed42d246-ae21-4c0e-d234-0461e043cdcb"
      },
      "execution_count": 1,
      "outputs": [
        {
          "output_type": "stream",
          "name": "stdout",
          "text": [
            "Requirement already satisfied: pygame in /usr/local/lib/python3.11/dist-packages (2.1.3)\n"
          ]
        }
      ]
    },
    {
      "cell_type": "code",
      "source": [
        "import pygame\n",
        "import os\n",
        "import random\n",
        "import sys\n"
      ],
      "metadata": {
        "id": "Y-Kz-wE4YRHd"
      },
      "execution_count": 4,
      "outputs": []
    },
    {
      "cell_type": "code",
      "source": [
        "!apt-get install xvfb\n",
        "!pip install pyvirtualdisplay\n",
        "!pip install piglet"
      ],
      "metadata": {
        "colab": {
          "base_uri": "https://localhost:8080/"
        },
        "id": "-664nJoXastB",
        "outputId": "e2850530-6e22-4984-c88f-05e95c9a7a4c"
      },
      "execution_count": 6,
      "outputs": [
        {
          "output_type": "stream",
          "name": "stdout",
          "text": [
            "Reading package lists... Done\n",
            "Building dependency tree... Done\n",
            "Reading state information... Done\n",
            "The following additional packages will be installed:\n",
            "  libfontenc1 libxfont2 libxkbfile1 x11-xkb-utils xfonts-base xfonts-encodings xfonts-utils\n",
            "  xserver-common\n",
            "The following NEW packages will be installed:\n",
            "  libfontenc1 libxfont2 libxkbfile1 x11-xkb-utils xfonts-base xfonts-encodings xfonts-utils\n",
            "  xserver-common xvfb\n",
            "0 upgraded, 9 newly installed, 0 to remove and 30 not upgraded.\n",
            "Need to get 7,817 kB of archives.\n",
            "After this operation, 12.0 MB of additional disk space will be used.\n",
            "Get:1 http://archive.ubuntu.com/ubuntu jammy/main amd64 libfontenc1 amd64 1:1.1.4-1build3 [14.7 kB]\n",
            "Get:2 http://archive.ubuntu.com/ubuntu jammy/main amd64 libxfont2 amd64 1:2.0.5-1build1 [94.5 kB]\n",
            "Get:3 http://archive.ubuntu.com/ubuntu jammy/main amd64 libxkbfile1 amd64 1:1.1.0-1build3 [71.8 kB]\n",
            "Get:4 http://archive.ubuntu.com/ubuntu jammy/main amd64 x11-xkb-utils amd64 7.7+5build4 [172 kB]\n",
            "Get:5 http://archive.ubuntu.com/ubuntu jammy/main amd64 xfonts-encodings all 1:1.0.5-0ubuntu2 [578 kB]\n",
            "Get:6 http://archive.ubuntu.com/ubuntu jammy/main amd64 xfonts-utils amd64 1:7.7+6build2 [94.6 kB]\n",
            "Get:7 http://archive.ubuntu.com/ubuntu jammy/main amd64 xfonts-base all 1:1.0.5 [5,896 kB]\n",
            "Get:8 http://archive.ubuntu.com/ubuntu jammy-updates/main amd64 xserver-common all 2:21.1.4-2ubuntu1.7~22.04.14 [29.2 kB]\n",
            "Get:9 http://archive.ubuntu.com/ubuntu jammy-updates/universe amd64 xvfb amd64 2:21.1.4-2ubuntu1.7~22.04.14 [866 kB]\n",
            "Fetched 7,817 kB in 1s (5,512 kB/s)\n",
            "Selecting previously unselected package libfontenc1:amd64.\n",
            "(Reading database ... 126210 files and directories currently installed.)\n",
            "Preparing to unpack .../0-libfontenc1_1%3a1.1.4-1build3_amd64.deb ...\n",
            "Unpacking libfontenc1:amd64 (1:1.1.4-1build3) ...\n",
            "Selecting previously unselected package libxfont2:amd64.\n",
            "Preparing to unpack .../1-libxfont2_1%3a2.0.5-1build1_amd64.deb ...\n",
            "Unpacking libxfont2:amd64 (1:2.0.5-1build1) ...\n",
            "Selecting previously unselected package libxkbfile1:amd64.\n",
            "Preparing to unpack .../2-libxkbfile1_1%3a1.1.0-1build3_amd64.deb ...\n",
            "Unpacking libxkbfile1:amd64 (1:1.1.0-1build3) ...\n",
            "Selecting previously unselected package x11-xkb-utils.\n",
            "Preparing to unpack .../3-x11-xkb-utils_7.7+5build4_amd64.deb ...\n",
            "Unpacking x11-xkb-utils (7.7+5build4) ...\n",
            "Selecting previously unselected package xfonts-encodings.\n",
            "Preparing to unpack .../4-xfonts-encodings_1%3a1.0.5-0ubuntu2_all.deb ...\n",
            "Unpacking xfonts-encodings (1:1.0.5-0ubuntu2) ...\n",
            "Selecting previously unselected package xfonts-utils.\n",
            "Preparing to unpack .../5-xfonts-utils_1%3a7.7+6build2_amd64.deb ...\n",
            "Unpacking xfonts-utils (1:7.7+6build2) ...\n",
            "Selecting previously unselected package xfonts-base.\n",
            "Preparing to unpack .../6-xfonts-base_1%3a1.0.5_all.deb ...\n",
            "Unpacking xfonts-base (1:1.0.5) ...\n",
            "Selecting previously unselected package xserver-common.\n",
            "Preparing to unpack .../7-xserver-common_2%3a21.1.4-2ubuntu1.7~22.04.14_all.deb ...\n",
            "Unpacking xserver-common (2:21.1.4-2ubuntu1.7~22.04.14) ...\n",
            "Selecting previously unselected package xvfb.\n",
            "Preparing to unpack .../8-xvfb_2%3a21.1.4-2ubuntu1.7~22.04.14_amd64.deb ...\n",
            "Unpacking xvfb (2:21.1.4-2ubuntu1.7~22.04.14) ...\n",
            "Setting up libfontenc1:amd64 (1:1.1.4-1build3) ...\n",
            "Setting up xfonts-encodings (1:1.0.5-0ubuntu2) ...\n",
            "Setting up libxkbfile1:amd64 (1:1.1.0-1build3) ...\n",
            "Setting up libxfont2:amd64 (1:2.0.5-1build1) ...\n",
            "Setting up x11-xkb-utils (7.7+5build4) ...\n",
            "Setting up xfonts-utils (1:7.7+6build2) ...\n",
            "Setting up xfonts-base (1:1.0.5) ...\n",
            "Setting up xserver-common (2:21.1.4-2ubuntu1.7~22.04.14) ...\n",
            "Setting up xvfb (2:21.1.4-2ubuntu1.7~22.04.14) ...\n",
            "Processing triggers for man-db (2.10.2-1) ...\n",
            "Processing triggers for fontconfig (2.13.1-4.2ubuntu5) ...\n",
            "Processing triggers for libc-bin (2.35-0ubuntu3.8) ...\n",
            "/sbin/ldconfig.real: /usr/local/lib/libtbbmalloc_proxy.so.2 is not a symbolic link\n",
            "\n",
            "/sbin/ldconfig.real: /usr/local/lib/libtbbbind.so.3 is not a symbolic link\n",
            "\n",
            "/sbin/ldconfig.real: /usr/local/lib/libur_loader.so.0 is not a symbolic link\n",
            "\n",
            "/sbin/ldconfig.real: /usr/local/lib/libtbb.so.12 is not a symbolic link\n",
            "\n",
            "/sbin/ldconfig.real: /usr/local/lib/libtbbbind_2_5.so.3 is not a symbolic link\n",
            "\n",
            "/sbin/ldconfig.real: /usr/local/lib/libtcm_debug.so.1 is not a symbolic link\n",
            "\n",
            "/sbin/ldconfig.real: /usr/local/lib/libur_adapter_level_zero.so.0 is not a symbolic link\n",
            "\n",
            "/sbin/ldconfig.real: /usr/local/lib/libhwloc.so.15 is not a symbolic link\n",
            "\n",
            "/sbin/ldconfig.real: /usr/local/lib/libtbbbind_2_0.so.3 is not a symbolic link\n",
            "\n",
            "/sbin/ldconfig.real: /usr/local/lib/libur_adapter_opencl.so.0 is not a symbolic link\n",
            "\n",
            "/sbin/ldconfig.real: /usr/local/lib/libumf.so.0 is not a symbolic link\n",
            "\n",
            "/sbin/ldconfig.real: /usr/local/lib/libtcm.so.1 is not a symbolic link\n",
            "\n",
            "/sbin/ldconfig.real: /usr/local/lib/libtbbmalloc.so.2 is not a symbolic link\n",
            "\n",
            "Collecting pyvirtualdisplay\n",
            "  Downloading PyVirtualDisplay-3.0-py3-none-any.whl.metadata (943 bytes)\n",
            "Downloading PyVirtualDisplay-3.0-py3-none-any.whl (15 kB)\n",
            "Installing collected packages: pyvirtualdisplay\n",
            "Successfully installed pyvirtualdisplay-3.0\n",
            "Collecting piglet\n",
            "  Downloading piglet-1.0.0-py2.py3-none-any.whl.metadata (814 bytes)\n",
            "Collecting piglet-templates (from piglet)\n",
            "  Downloading piglet_templates-1.3.2-py3-none-any.whl.metadata (2.4 kB)\n",
            "Requirement already satisfied: pyparsing in /usr/local/lib/python3.11/dist-packages (from piglet-templates->piglet) (3.2.3)\n",
            "Requirement already satisfied: attrs in /usr/local/lib/python3.11/dist-packages (from piglet-templates->piglet) (25.3.0)\n",
            "Requirement already satisfied: markupsafe in /usr/local/lib/python3.11/dist-packages (from piglet-templates->piglet) (3.0.2)\n",
            "Downloading piglet-1.0.0-py2.py3-none-any.whl (2.2 kB)\n",
            "Downloading piglet_templates-1.3.2-py3-none-any.whl (67 kB)\n",
            "\u001b[2K   \u001b[90m━━━━━━━━━━━━━━━━━━━━━━━━━━━━━━━━━━━━━━━━\u001b[0m \u001b[32m67.5/67.5 kB\u001b[0m \u001b[31m1.7 MB/s\u001b[0m eta \u001b[36m0:00:00\u001b[0m\n",
            "\u001b[?25hInstalling collected packages: piglet-templates, piglet\n",
            "Successfully installed piglet-1.0.0 piglet-templates-1.3.2\n"
          ]
        }
      ]
    },
    {
      "cell_type": "code",
      "source": [
        "# Initialize Pygame\n",
        "pygame.init()\n",
        "\n",
        "# Set up the game window dimentions\n",
        "SCREEN_WIDTH = 400\n",
        "SCREEN_HEIGHT = 600\n",
        "screen = pygame.display.set_mode((SCREEN_WIDTH, SCREEN_HEIGHT))\n",
        "\n",
        "# Set the title for the game window\n",
        "pygame.display.set_caption('Flappy Bird')\n",
        "\n",
        "#Set the frame rate\n",
        "FPS = 60\n",
        "clock = pygame.time.Clock()"
      ],
      "metadata": {
        "colab": {
          "base_uri": "https://localhost:8080/",
          "height": 211
        },
        "id": "qejKXM9TYi3P",
        "outputId": "5e6ef8d3-0458-4bae-bd00-b481ea18fb27"
      },
      "execution_count": 7,
      "outputs": [
        {
          "output_type": "error",
          "ename": "error",
          "evalue": "No available video device",
          "traceback": [
            "\u001b[0;31m---------------------------------------------------------------------------\u001b[0m",
            "\u001b[0;31merror\u001b[0m                                     Traceback (most recent call last)",
            "\u001b[0;32m<ipython-input-7-696f27d926ff>\u001b[0m in \u001b[0;36m<cell line: 0>\u001b[0;34m()\u001b[0m\n\u001b[1;32m      5\u001b[0m \u001b[0mSCREEN_WIDTH\u001b[0m \u001b[0;34m=\u001b[0m \u001b[0;36m400\u001b[0m\u001b[0;34m\u001b[0m\u001b[0;34m\u001b[0m\u001b[0m\n\u001b[1;32m      6\u001b[0m \u001b[0mSCREEN_HEIGHT\u001b[0m \u001b[0;34m=\u001b[0m \u001b[0;36m600\u001b[0m\u001b[0;34m\u001b[0m\u001b[0;34m\u001b[0m\u001b[0m\n\u001b[0;32m----> 7\u001b[0;31m \u001b[0mscreen\u001b[0m \u001b[0;34m=\u001b[0m \u001b[0mpygame\u001b[0m\u001b[0;34m.\u001b[0m\u001b[0mdisplay\u001b[0m\u001b[0;34m.\u001b[0m\u001b[0mset_mode\u001b[0m\u001b[0;34m(\u001b[0m\u001b[0;34m(\u001b[0m\u001b[0mSCREEN_WIDTH\u001b[0m\u001b[0;34m,\u001b[0m \u001b[0mSCREEN_HEIGHT\u001b[0m\u001b[0;34m)\u001b[0m\u001b[0;34m)\u001b[0m\u001b[0;34m\u001b[0m\u001b[0;34m\u001b[0m\u001b[0m\n\u001b[0m\u001b[1;32m      8\u001b[0m \u001b[0;34m\u001b[0m\u001b[0m\n\u001b[1;32m      9\u001b[0m \u001b[0;31m# Set the title for the game window\u001b[0m\u001b[0;34m\u001b[0m\u001b[0;34m\u001b[0m\u001b[0m\n",
            "\u001b[0;31merror\u001b[0m: No available video device"
          ]
        }
      ]
    },
    {
      "cell_type": "code",
      "source": [
        "#Colors\n",
        "White = (255, 255, 255)\n",
        "Black = (0, 0, 0)\n",
        "Green = (0, 255, 0)\n",
        "Blue = (0, 0, 255)\n",
        "\n",
        "#Bird properties\n",
        "bird_width = 40\n",
        "bird_height = 40\n",
        "bird_x = 50\n",
        "bird_y = SCREEN_HEIGHT // 2\n",
        "bird_velocity = 0\n",
        "bird_gravity = 0.5\n",
        "bird_jump_strength = -10\n",
        "\n",
        "# Pipe properties\n",
        "pipe_width = 60\n",
        "pipe_gap = 200\n",
        "pipe_velocity = 5\n",
        "pipe_frequency = 1500 # Milliseconds\n",
        "last_pipe = pygame.time.get_ticks(\n",
        ")\n",
        "# Game variables\n",
        "score = 0\n",
        "game_over = False"
      ],
      "metadata": {
        "id": "J2aZ0z1cbU7S"
      },
      "execution_count": 8,
      "outputs": []
    },
    {
      "cell_type": "code",
      "source": [
        "class Bird:\n",
        "    def __init__(self):\n",
        "        self.x = bird_x\n",
        "        self.y = bird_y\n",
        "        self.width = bird_width\n",
        "        self.height = bird_height\n",
        "        self.velocity = bird_velocity\n",
        "\n",
        "    def move(self):\n",
        "        self.velocity += bird_gravity\n",
        "        self.y +=self.velocity\n",
        "\n",
        "    def jump(self):\n",
        "        self.velocity = bird_jump_strength\n",
        "\n",
        "    def draw(self):\n",
        "      pygame.draw.rect(screen, 'BLUE', (self.x, self.y, self.width, self.height))\n"
      ],
      "metadata": {
        "id": "mWKvUBeLdn4b"
      },
      "execution_count": 12,
      "outputs": []
    },
    {
      "cell_type": "code",
      "source": [
        "class Pipe:\n",
        "    def __init__(self):\n",
        "      self.x = SCREEN_WIDTH\n",
        "      self.height = random.randint(100, SCREEN_HEIGHT - pipe_gap - 100)\n",
        "      self.top_rect = pygame.Rect(self.x, 0, pipe_width, self.height)\n",
        "      self.bottom_rect = pygame.Rect(self.x, self.height + pipe_gap, pipe_width, )"
      ],
      "metadata": {
        "id": "Dtv3ZQ5ripcU"
      },
      "execution_count": 14,
      "outputs": []
    },
    {
      "cell_type": "code",
      "source": [
        "def move(self):\n",
        "    self.x -= pipe_velocity\n",
        "    self.top_rect.x = self.x\n",
        "    self.bottom_rect.x = self.xvfb\n",
        "\n",
        "def draw(self):\n",
        "    pygame.draw.rect(screen, GREEN, self.top_rect)\n",
        "    pygame.draw.rect(screen, GREEN, self.bottom_rect)"
      ],
      "metadata": {
        "id": "hyy5Ud1klMU4"
      },
      "execution_count": 15,
      "outputs": []
    },
    {
      "cell_type": "code",
      "source": [
        "def check_collisions(birds, pipes):\n",
        "    if bird.y <= 0 or bird.y + bird.height >= SCREEN_HEIGHT:\n",
        "       return True\n",
        "\n",
        "    for pipes in pipes:\n",
        "     if bird.x + bird.width > pipe.x and bird.x < pipe.x + pipe_width:\n",
        "        if bird.y < pipe.height or bird.y + bird.height > pipe.height + pipe_gap:\n",
        "          return True\n",
        "\n",
        "\n",
        "    return False"
      ],
      "metadata": {
        "id": "4a7W4WPUmj1s"
      },
      "execution_count": 17,
      "outputs": []
    },
    {
      "cell_type": "code",
      "source": [
        "def game_loop():\n",
        "  global score, game_over\n",
        "  bird = Bird()\n",
        "  pipes = []\n",
        "\n",
        "  while True:\n",
        "      screen.fill(WHITE)\n",
        "      for event in pygame.event.get():\n",
        "          if event.type == pygame.QUIT :\n",
        "            pygame.quit()\n",
        "            sys.exit()\n",
        "          if event.type == pygame.K_SPACE and not game_over:\n",
        "            bird.jump()\n",
        "\n",
        "\n",
        "  bird.move()\n",
        "\n",
        "  if pygame.time.get_ticks() - last_pipe > pipe_frequency:\n",
        "    pipes.append(Pipes())\n",
        "    last_pipe = pygame.time.get_ticks()\n",
        "\n",
        "  for pipe in pipes[:]:\n",
        "    pipe.move()\n",
        "    pipe.draw()\n",
        "\n",
        "  if pipe.x + pipe_width < 0:\n",
        "    pipes.remove(pipe)\n",
        "\n",
        "\n",
        "  bird.draw()\n",
        "\n",
        "def game_loop():\n",
        "  global score, game_over\n",
        "  bird = Bird()\n",
        "  pipes = []\n",
        "\n",
        "  while True:\n",
        "      screen.fill(WHITE)\n",
        "      for event in pygame.event.get():\n",
        "          if event.type == pygame.QUIT:\n",
        "            pygame.quit()\n",
        "            sys.exit()\n",
        "          if event.type == pygame.KEYDOWN:\n",
        "            if event.key == pygame.K_SPACE and not game_over:\n",
        "              bird.jump()\n",
        "\n",
        "      bird.move()\n",
        "\n",
        "      if pygame.time.get_ticks() - last_pipe > pipe_frequency:\n",
        "        pipes.append(Pipes())\n",
        "        last_pipe = pygame.time.get_ticks()\n",
        "\n",
        "      for pipe in pipes[:]:\n",
        "        pipe.move()\n",
        "        pipe.draw()\n",
        "        if pipe.x + pipe_width < 0:\n",
        "          pipes.remove(pipe)\n",
        "\n",
        "      bird.draw()\n",
        "\n",
        "      if check_collossions(bird, pipes):\n",
        "        game_over = True\n",
        "        break\n",
        "\n",
        "      # Update the score\n",
        "      for pipe in pipes:\n",
        "        if pipe.x + pipe_width < bird.x and not hasattr(pipe, 'scored'):\n",
        "          score += 1\n",
        "          pipe.scored = True\n",
        "\n",
        "      # Display score\n",
        "      font = pygame.font.SysFont('Arial', 30)\n",
        "      score_text = font.render(f\"Score: {score}\", True, Black)\n",
        "      screen.blit(score_text, (10, 10))\n",
        "\n",
        "      pygame.display.update()\n",
        "      clock.tick(FPS)\n",
        "  # Update the score\n",
        "  for pipe in pipes:\n",
        "    if pipe.x + pipe_width < bird.x and not hasattr(pipe, 'scored'):\n",
        "      score += 1\n",
        "      pipe.scored = True\n",
        "\n",
        "      # Display score\n",
        "      font = pygame.font.SysFont('Arial', 30)\n",
        "      score_text = font.render(f\"Score: {score}\", True, Black)\n",
        "      screen.blit(score_text, (10, 10))\n",
        "\n",
        "      pygame.display.update()\n",
        "      clock.tick(FPS)\n",
        "\n",
        ""
      ],
      "metadata": {
        "id": "Z9qDsQEkqgVZ"
      },
      "execution_count": 19,
      "outputs": []
    },
    {
      "cell_type": "code",
      "source": [],
      "metadata": {
        "id": "HfoaSxy7wnHf"
      },
      "execution_count": null,
      "outputs": []
    }
  ]
}