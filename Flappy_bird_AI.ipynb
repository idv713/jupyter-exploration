{
  "nbformat": 4,
  "nbformat_minor": 0,
  "metadata": {
    "colab": {
      "provenance": [],
      "gpuType": "T4",
      "authorship_tag": "ABX9TyMxbqrrpBjMkjA7OjDnSmhO",
      "include_colab_link": true
    },
    "kernelspec": {
      "name": "python3",
      "display_name": "Python 3"
    },
    "language_info": {
      "name": "python"
    }
  },
  "cells": [
    {
      "cell_type": "markdown",
      "metadata": {
        "id": "view-in-github",
        "colab_type": "text"
      },
      "source": [
        "<a href=\"https://colab.research.google.com/github/idv713/jupyter-exploration/blob/main/Flappy_bird_AI.ipynb\" target=\"_parent\"><img src=\"https://colab.research.google.com/assets/colab-badge.svg\" alt=\"Open In Colab\"/></a>"
      ]
    },
    {
      "cell_type": "code",
      "source": [
        "!pip install pygame"
      ],
      "metadata": {
        "colab": {
          "base_uri": "https://localhost:8080/"
        },
        "id": "KYYdcLGMYBdY",
        "outputId": "e4b6bd95-1dac-4afe-89a6-4036da722a13"
      },
      "execution_count": 55,
      "outputs": [
        {
          "output_type": "stream",
          "name": "stdout",
          "text": [
            "Requirement already satisfied: pygame in /usr/local/lib/python3.11/dist-packages (2.6.1)\n"
          ]
        }
      ]
    },
    {
      "cell_type": "code",
      "source": [
        "import pygame\n",
        "import os\n",
        "import random\n",
        "import sys\n"
      ],
      "metadata": {
        "id": "Y-Kz-wE4YRHd"
      },
      "execution_count": 56,
      "outputs": []
    },
    {
      "cell_type": "code",
      "source": [
        "!apt-get install xvfb\n",
        "!pip install pyvirtualdisplay\n",
        "!pip install piglet"
      ],
      "metadata": {
        "colab": {
          "base_uri": "https://localhost:8080/"
        },
        "id": "-664nJoXastB",
        "outputId": "5770df02-4dc1-4220-a3e3-a50a352b80d5"
      },
      "execution_count": 57,
      "outputs": [
        {
          "output_type": "stream",
          "name": "stdout",
          "text": [
            "Reading package lists... Done\n",
            "Building dependency tree... Done\n",
            "Reading state information... Done\n",
            "xvfb is already the newest version (2:21.1.4-2ubuntu1.7~22.04.14).\n",
            "0 upgraded, 0 newly installed, 0 to remove and 30 not upgraded.\n",
            "Requirement already satisfied: pyvirtualdisplay in /usr/local/lib/python3.11/dist-packages (3.0)\n",
            "Requirement already satisfied: piglet in /usr/local/lib/python3.11/dist-packages (1.0.0)\n",
            "Requirement already satisfied: piglet-templates in /usr/local/lib/python3.11/dist-packages (from piglet) (1.3.2)\n",
            "Requirement already satisfied: pyparsing in /usr/local/lib/python3.11/dist-packages (from piglet-templates->piglet) (3.2.3)\n",
            "Requirement already satisfied: attrs in /usr/local/lib/python3.11/dist-packages (from piglet-templates->piglet) (25.3.0)\n",
            "Requirement already satisfied: markupsafe in /usr/local/lib/python3.11/dist-packages (from piglet-templates->piglet) (3.0.2)\n"
          ]
        }
      ]
    },
    {
      "cell_type": "code",
      "source": [
        "# Initialize Pygame\n",
        "pygame.init()\n",
        "\n",
        "# Set up the game window dimentions\n",
        "SCREEN_WIDTH = 400\n",
        "SCREEN_HEIGHT = 600\n",
        "screen = pygame.display.set_mode((SCREEN_WIDTH, SCREEN_HEIGHT))\n",
        "\n",
        "# Set the title for the game window\n",
        "pygame.display.set_caption('Flappy Bird')\n",
        "\n",
        "#Set the frame rate\n",
        "FPS = 60\n",
        "clock = pygame.time.Clock()"
      ],
      "metadata": {
        "id": "qejKXM9TYi3P"
      },
      "execution_count": 58,
      "outputs": []
    },
    {
      "cell_type": "code",
      "source": [
        "#Colors\n",
        "White = (255, 255, 255)\n",
        "Black = (0, 0, 0)\n",
        "Green = (0, 255, 0)\n",
        "Blue = (0, 0, 255)\n",
        "\n",
        "#Bird properties\n",
        "bird_width = 40\n",
        "bird_height = 40\n",
        "bird_x = 50\n",
        "bird_y = SCREEN_HEIGHT // 2\n",
        "bird_velocity = 0\n",
        "bird_gravity = 0.5\n",
        "bird_jump_strength = -10\n",
        "\n",
        "# Pipe properties\n",
        "pipe_width = 60\n",
        "pipe_gap = 200\n",
        "pipe_velocity = 5\n",
        "pipe_frequency = 1500 # Milliseconds\n",
        "last_pipe = pygame.time.get_ticks(\n",
        ")\n",
        "# Game variables\n",
        "score = 0\n",
        "game_over = False"
      ],
      "metadata": {
        "id": "J2aZ0z1cbU7S"
      },
      "execution_count": 59,
      "outputs": []
    },
    {
      "cell_type": "code",
      "source": [
        "class Bird:\n",
        "    def __init__(self):\n",
        "        self.x = bird_x\n",
        "        self.y = bird_y\n",
        "        self.width = bird_width\n",
        "        self.height = bird_height\n",
        "        self.velocity = bird_velocity\n",
        "\n",
        "    def move(self):\n",
        "        self.velocity += bird_gravity\n",
        "        self.y +=self.velocity\n",
        "\n",
        "    def jump(self):\n",
        "        self.velocity = bird_jump_strength\n",
        "\n",
        "    def draw(self):\n",
        "      pygame.draw.rect(screen, 'BLUE', (self.x, self.y, self.width, self.height))\n"
      ],
      "metadata": {
        "id": "mWKvUBeLdn4b"
      },
      "execution_count": 60,
      "outputs": []
    },
    {
      "cell_type": "code",
      "source": [
        "class Pipe:\n",
        "    def __init__(self):\n",
        "      self.x = SCREEN_WIDTH\n",
        "      self.height = random.randint(100, SCREEN_HEIGHT - pipe_gap - 100)\n",
        "      self.top_rect = pygame.Rect(self.x, 0, pipe_width, self.height)\n",
        "      bottom_pipe_height = SCREEN_HEIGHT - self.height - pipe_gap\n",
        "      self.bottom_rect = pygame.Rect(self.x, self.height + pipe_gap, pipe_width, bottom_pipe_height)"
      ],
      "metadata": {
        "id": "Dtv3ZQ5ripcU"
      },
      "execution_count": 61,
      "outputs": []
    },
    {
      "cell_type": "code",
      "source": [
        "def move(self):\n",
        "    self.x -= pipe_velocity\n",
        "    self.top_rect.x = self.x\n",
        "    self.bottom_rect.x = self.x\n",
        "\n",
        "def draw(self):\n",
        "    pygame.draw.rect(screen, 'GREEN', self.top_rect)\n",
        "    pygame.draw.rect(screen, 'GREEN', self.bottom_rect)"
      ],
      "metadata": {
        "id": "hyy5Ud1klMU4"
      },
      "execution_count": 62,
      "outputs": []
    },
    {
      "cell_type": "code",
      "source": [
        "def check_collisions(birds, pipes):\n",
        "    if 'bird'.y <= 0 or 'bird'.y + 'bird'.height >= SCREEN_HEIGHT:\n",
        "       return True\n",
        "\n",
        "    for pipes in pipes:\n",
        "     if 'bird'.x + 'bird'.width > 'pipe'.x and 'bird'.x < 'pipe'.x + pipe_width:\n",
        "        if 'bird'.y < 'pipe'.height or 'bird'.y + 'bird'.height > 'pipe'.height + pipe_gap:\n",
        "          return True\n",
        "\n",
        "\n",
        "    return False"
      ],
      "metadata": {
        "id": "4a7W4WPUmj1s"
      },
      "execution_count": 63,
      "outputs": []
    },
    {
      "cell_type": "code",
      "source": [
        "def game_loop():\n",
        "  global score, game_over\n",
        "  bird = Bird()\n",
        "  pipes = []\n",
        "\n",
        "  while True:\n",
        "      screen.fill('WHITE')\n",
        "      for event in pygame.event.get():\n",
        "          if event.type == pygame.QUIT :\n",
        "            pygame.quit()\n",
        "            sys.exit()\n",
        "          if event.type == pygame.K_SPACE and not game_over:\n",
        "            bird.jump()\n",
        "\n",
        "\n",
        "  bird.move()\n",
        "\n",
        "  if pygame.time.get_ticks() - last_pipe > pipe_frequency:\n",
        "    pipes.append(Pipes())\n",
        "    last_pipe = pygame.time.get_ticks()\n",
        "\n",
        "  for pipe in pipes[:]:\n",
        "    pipe.move()\n",
        "    pipe.draw()\n",
        "\n",
        "  if pipe.x + pipe_width < 0:\n",
        "    pipes.remove(pipe)\n",
        "\n",
        "\n",
        "  bird.draw()\n",
        "\n",
        "def game_loop():\n",
        "  global score, game_over, last_pipe\n",
        "  bird = Bird()\n",
        "  pipes = []\n",
        "\n",
        "  while True:\n",
        "      screen.fill('WHITE')\n",
        "      for event in pygame.event.get():\n",
        "          if event.type == pygame.QUIT:\n",
        "            pygame.quit()\n",
        "            sys.exit()\n",
        "          if event.type == pygame.KEYDOWN:\n",
        "            if event.key == pygame.K_SPACE and not game_over:\n",
        "              bird.jump()\n",
        "\n",
        "      bird.move()\n",
        "\n",
        "      if pygame.time.get_ticks() - last_pipe > pipe_frequency:\n",
        "        pipes.append(Pipe())\n",
        "        last_pipe = pygame.time.get_ticks()\n",
        "\n",
        "      for pipe in pipes[:]:\n",
        "        pipe.move()\n",
        "        pipe.draw()\n",
        "        if pipe.x + pipe_width < 0:\n",
        "          pipes.remove(pipe)\n",
        "\n",
        "      bird.draw()\n",
        "\n",
        "      if check_collisions(bird, pipes):\n",
        "        game_over = True\n",
        "        break\n",
        "\n",
        "      # Update the score\n",
        "      for pipe in pipes:\n",
        "        if pipe.x + pipe_width < bird.x and not hasattr(pipe, 'scored'):\n",
        "          score += 1\n",
        "          pipe.scored = True\n",
        "\n",
        "      # Display score\n",
        "      font = pygame.font.SysFont('Arial', 30)\n",
        "      score_text = font.render(f\"Score: {score}\", True, Black)\n",
        "      screen.blit(score_text, (10, 10))\n",
        "\n",
        "      pygame.display.update()\n",
        "      clock.tick(FPS)\n",
        "  # Update the score\n",
        "  for pipe in pipes:\n",
        "    if pipe.x + pipe_width < bird.x and not hasattr(pipe, 'scored'):\n",
        "      score += 1\n",
        "      pipe.scored = True\n",
        "\n",
        "      # Display score\n",
        "      font = pygame.font.SysFont('Arial', 30)\n",
        "      score_text = font.render(f\"Score: {score}\", True, Black)\n",
        "      screen.blit(score_text, (10, 10))\n",
        "\n",
        "      pygame.display.update()\n",
        "      clock.tick(FPS)\n",
        "\n"
      ],
      "metadata": {
        "id": "Z9qDsQEkqgVZ"
      },
      "execution_count": 64,
      "outputs": []
    },
    {
      "cell_type": "code",
      "source": [
        "def game_overscreen():\n",
        "  screen.fill('WHITE')\n",
        "  font = pygame.font.SysFont('Arial', 50)\n",
        "  game_over_text = font.render('Game Over', True, Black)\n",
        "  screen.blit(game_over_text, (SCREEN_WIDTH // 4, SCREEN_HEIGHT // 2))\n",
        "\n",
        "  pygame.display.update()\n",
        "\n",
        "  # Wait for the player to close the game window\n",
        "  waiting = True\n",
        "  while waiting:\n",
        "    for event in pygame.event.get():\n",
        "      if event.type == pygame.QUIT:\n",
        "        pygame.quit()\n",
        "        sys.exit()\n",
        "\n",
        "\n",
        "  pygame.display.update()\n",
        "\n",
        "  # Wait for the player to close the game window\n",
        "def game_overscreen():\n",
        "  screen.fill('WHITE')\n",
        "  font = pygame.font.SysFont('Arial', 50)\n",
        "  game_over_text = font.render('Game Over', True, Black)\n",
        "  screen.blit(game_over_text, (SCREEN_WIDTH // 4, SCREEN_HEIGHT // 2))\n",
        "\n",
        "  pygame.display.update()\n",
        "\n",
        "  # Wait for the player to close the game window\n",
        "  waiting = True\n",
        "  while waiting:\n",
        "    for event in pygame.event.get():\n",
        "      if event.type == pygame.QUIT:\n",
        "        pygame.quit()\n",
        "        sys.exit()\n",
        "\n",
        "\n",
        "  pygame.display.update()\n",
        "\n",
        "\n",
        "\n",
        "\n"
      ],
      "metadata": {
        "id": "HfoaSxy7wnHf"
      },
      "execution_count": 65,
      "outputs": []
    },
    {
      "cell_type": "code",
      "source": [
        "def game_loop():\n",
        "  if game_over:\n",
        "    game_overscreen()\n",
        "  game_overscreen()"
      ],
      "metadata": {
        "id": "CIAGBaEpOesR"
      },
      "execution_count": 66,
      "outputs": []
    },
    {
      "cell_type": "code",
      "source": [
        "!apt-get install xvfb\n",
        "!pip install pyvirtualdisplay\n",
        "!pip install piglet"
      ],
      "metadata": {
        "colab": {
          "base_uri": "https://localhost:8080/"
        },
        "id": "zI4QXJ8GaWCA",
        "outputId": "6b582582-e54a-461b-cbca-7206956dc2e8"
      },
      "execution_count": 67,
      "outputs": [
        {
          "output_type": "stream",
          "name": "stdout",
          "text": [
            "Reading package lists... Done\n",
            "Building dependency tree... Done\n",
            "Reading state information... Done\n",
            "xvfb is already the newest version (2:21.1.4-2ubuntu1.7~22.04.14).\n",
            "0 upgraded, 0 newly installed, 0 to remove and 30 not upgraded.\n",
            "Requirement already satisfied: pyvirtualdisplay in /usr/local/lib/python3.11/dist-packages (3.0)\n",
            "Requirement already satisfied: piglet in /usr/local/lib/python3.11/dist-packages (1.0.0)\n",
            "Requirement already satisfied: piglet-templates in /usr/local/lib/python3.11/dist-packages (from piglet) (1.3.2)\n",
            "Requirement already satisfied: pyparsing in /usr/local/lib/python3.11/dist-packages (from piglet-templates->piglet) (3.2.3)\n",
            "Requirement already satisfied: attrs in /usr/local/lib/python3.11/dist-packages (from piglet-templates->piglet) (25.3.0)\n",
            "Requirement already satisfied: markupsafe in /usr/local/lib/python3.11/dist-packages (from piglet-templates->piglet) (3.0.2)\n"
          ]
        }
      ]
    },
    {
      "cell_type": "code",
      "source": [
        "from pyvirtualdisplay import Display\n",
        "display = Display(visible=0, size=(SCREEN_WIDTH, SCREEN_HEIGHT))\n",
        "display.start()"
      ],
      "metadata": {
        "colab": {
          "base_uri": "https://localhost:8080/"
        },
        "id": "hCY8skTEa1qN",
        "outputId": "015b0fa5-6452-4684-9707-515aa05aa62b"
      },
      "execution_count": 68,
      "outputs": [
        {
          "output_type": "execute_result",
          "data": {
            "text/plain": [
              "<pyvirtualdisplay.display.Display at 0x78b163582b50>"
            ]
          },
          "metadata": {},
          "execution_count": 68
        }
      ]
    },
    {
      "cell_type": "code",
      "source": [
        "import pygame\n",
        "pygame.init()"
      ],
      "metadata": {
        "colab": {
          "base_uri": "https://localhost:8080/"
        },
        "id": "rCn0vTfFbnan",
        "outputId": "84106dfe-55d9-42e4-bf1b-8323bab3644f"
      },
      "execution_count": 69,
      "outputs": [
        {
          "output_type": "execute_result",
          "data": {
            "text/plain": [
              "(4, 1)"
            ]
          },
          "metadata": {},
          "execution_count": 69
        }
      ]
    },
    {
      "cell_type": "code",
      "source": [
        "screen = pygame.display.set_mode((SCREEN_WIDTH, SCREEN_HEIGHT))"
      ],
      "metadata": {
        "id": "Ltvb9hd4byfu"
      },
      "execution_count": 71,
      "outputs": []
    },
    {
      "cell_type": "code",
      "source": [
        "game_loop()"
      ],
      "metadata": {
        "id": "DqUB5WoLdF-g"
      },
      "execution_count": null,
      "outputs": []
    }
  ]
}